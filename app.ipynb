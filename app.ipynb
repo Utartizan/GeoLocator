{
 "cells": [
  {
   "cell_type": "code",
   "id": "initial_id",
   "metadata": {
    "collapsed": true,
    "ExecuteTime": {
     "end_time": "2025-02-04T19:20:10.932143Z",
     "start_time": "2025-02-04T19:20:08.706709Z"
    }
   },
   "source": [
    "import os\n",
    "\n",
    "pip install google"
   ],
   "outputs": [
    {
     "name": "stdout",
     "output_type": "stream",
     "text": [
      "Collecting google\n",
      "  Downloading google-3.0.0-py2.py3-none-any.whl.metadata (627 bytes)\n",
      "Requirement already satisfied: beautifulsoup4 in e:\\spyder\\lib\\site-packages (from google) (4.12.3)\n",
      "Requirement already satisfied: soupsieve>1.2 in e:\\spyder\\lib\\site-packages (from beautifulsoup4->google) (2.6)\n",
      "Downloading google-3.0.0-py2.py3-none-any.whl (45 kB)\n",
      "Installing collected packages: google\n",
      "Successfully installed google-3.0.0\n",
      "Note: you may need to restart the kernel to use updated packages.\n"
     ]
    }
   ],
   "execution_count": 7
  },
  {
   "metadata": {
    "ExecuteTime": {
     "end_time": "2025-02-04T21:15:10.215809Z",
     "start_time": "2025-02-04T21:15:09.440323Z"
    }
   },
   "cell_type": "code",
   "source": [
    "import requests\n",
    "import os\n",
    "\n",
    "API_KEY = os.getenv('GOOGLE_MAPS_API_KEY')\n",
    "\n",
    "if not API_KEY:\n",
    "    raise ValueError('GOOGLE_MAPS_API_KEY is not set')\n",
    "\n",
    "latitude = 37.5257884\n",
    "longitude = 126.9046205\n",
    "\n",
    "url = f\"https://maps.googleapis.com/maps/api/streetview?size=600x300&location={latitude},{longitude}&key={API_KEY}\"\n",
    "\n",
    "response = requests.get(url)\n",
    "\n",
    "with open(\"streetviewimage.jpg\", \"wb\") as file:\n",
    "    file.write(response.content)\n",
    "\n",
    "print(\"Location Image Downloaded\")\n"
   ],
   "id": "f782a32531a976c8",
   "outputs": [
    {
     "name": "stdout",
     "output_type": "stream",
     "text": [
      "Location Image Downloaded\n"
     ]
    }
   ],
   "execution_count": 1
  },
  {
   "metadata": {},
   "cell_type": "code",
   "outputs": [],
   "execution_count": null,
   "source": "\n",
   "id": "1042b102ebec0dfc"
  }
 ],
 "metadata": {
  "kernelspec": {
   "display_name": "Python 3",
   "language": "python",
   "name": "python3"
  },
  "language_info": {
   "codemirror_mode": {
    "name": "ipython",
    "version": 2
   },
   "file_extension": ".py",
   "mimetype": "text/x-python",
   "name": "python",
   "nbconvert_exporter": "python",
   "pygments_lexer": "ipython2",
   "version": "2.7.6"
  }
 },
 "nbformat": 4,
 "nbformat_minor": 5
}
